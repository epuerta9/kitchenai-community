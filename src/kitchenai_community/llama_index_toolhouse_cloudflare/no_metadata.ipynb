{
 "cells": [
  {
   "cell_type": "code",
   "execution_count": 12,
   "metadata": {},
   "outputs": [],
   "source": [
    "import chromadb\n",
    "from llama_index.core import VectorStoreIndex, StorageContext\n",
    "from llama_index.vector_stores.chroma import ChromaVectorStore\n",
    "from llama_index.core import SummaryIndex\n",
    "\n",
    "from llama_index.llms.openai import OpenAI\n",
    "import os \n",
    "from llama_index.llms.openai import OpenAI\n",
    "from llama_index.embeddings.openai import OpenAIEmbedding\n",
    "from llama_index.core import Settings\n",
    "from llama_index.agent.openai import OpenAIAgent\n",
    "from llama_index.core.tools import QueryEngineTool, ToolMetadata\n",
    "\n",
    "from llama_index.core.objects import ObjectIndex\n",
    "\n",
    "\n",
    "chroma_client = chromadb.PersistentClient(path=\"chroma_db\")\n",
    "chroma_collection = chroma_client.get_or_create_collection(\"quickstart_no_metadata\")\n"
   ]
  },
  {
   "cell_type": "code",
   "execution_count": 13,
   "metadata": {},
   "outputs": [],
   "source": [
    "function_llm = OpenAI(model=\"gpt-4\",  api_base=os.environ.get(\"CLOUDFLARE_API_BASE_URL\", None))\n",
    "Settings.llm = OpenAI(model=\"gpt-4\", api_base=os.environ.get(\"CLOUDFLARE_API_BASE_URL\", None))\n",
    "Settings.embed_model = OpenAIEmbedding(api_base=os.environ.get(\"CLOUDFLARE_API_BASE_URL\", None))"
   ]
  },
  {
   "cell_type": "code",
   "execution_count": 14,
   "metadata": {},
   "outputs": [],
   "source": [
    "vector_store = ChromaVectorStore(chroma_collection=chroma_collection)\n",
    "\n",
    "index = VectorStoreIndex.from_vector_store(\n",
    "    vector_store=vector_store,\n",
    ")\n",
    "\n"
   ]
  },
  {
   "cell_type": "code",
   "execution_count": 22,
   "metadata": {},
   "outputs": [
    {
     "name": "stdout",
     "output_type": "stream",
     "text": [
      "The document is a detailed guide for a construction project, outlining the responsibilities of various parties and the proposal submission process. \n",
      "\n",
      "The Construction Manager is required to comply with all applicable laws, regulations, and orders, including equal employment opportunity programs. The Owner is responsible for retaining an Architect, covering costs related to environmental studies, surveys, and geotechnical services, and providing all related data to the Construction Manager. The Owner also has a designated representative to assist in decision-making. \n",
      "\n",
      "The Construction Manager is required to purchase and maintain insurance as specified in the Construction Contract. The proposal format is outlined in detail, including information about the proposing firm, its organization, personnel, hiring practices, qualifications, experience, sustainability experience, connection to place, self-performed work, subcontracted work, ability to meet timelines, tax-exempt status, and fees. \n",
      "\n",
      "Proposals must be submitted by a specific deadline, and there are opportunities for prospective proposers to visit the site and participate in a Q&A session. The document also mentions a final selection process based on the qualifications and experience of the Proposer, its ability to meet project timelines, understanding of the project's principles and objectives, and proposed fees.\n"
     ]
    }
   ],
   "source": [
    "engine = index.as_query_engine(llm=Settings.llm)\n",
    "\n",
    "response = engine.query(\"summarize in detail,the document related to construction?\")\n",
    "print(response)"
   ]
  },
  {
   "cell_type": "code",
   "execution_count": 16,
   "metadata": {},
   "outputs": [
    {
     "data": {
      "text/plain": [
       "{'f0681538-82a2-4a69-ab5e-4d267ab19e8e': {'page_label': '7',\n",
       "  'file_name': 'kitchenai/5faf76ea-ed89-45ae-b977-16ba61427b25/construction-rfp.pdf',\n",
       "  'file_id': 33,\n",
       "  'source': 'kitchenai_cookbook',\n",
       "  'file_label': 'construction'},\n",
       " '6fd2f931-b87f-4844-87bb-d52831ba290c': {'page_label': '6',\n",
       "  'file_name': 'kitchenai/5faf76ea-ed89-45ae-b977-16ba61427b25/construction-rfp.pdf',\n",
       "  'file_id': 33,\n",
       "  'source': 'kitchenai_cookbook',\n",
       "  'file_label': 'construction'}}"
      ]
     },
     "execution_count": 16,
     "metadata": {},
     "output_type": "execute_result"
    }
   ],
   "source": [
    "response.metadata\n"
   ]
  },
  {
   "cell_type": "code",
   "execution_count": 17,
   "metadata": {},
   "outputs": [],
   "source": [
    "\n",
    "file_label = \"construction\"\n",
    "\n",
    "label_index = VectorStoreIndex.from_vector_store(\n",
    "    vector_store=vector_store,\n",
    "    filter={\"file_label\": file_label}\n",
    ")\n"
   ]
  },
  {
   "cell_type": "code",
   "execution_count": 18,
   "metadata": {},
   "outputs": [],
   "source": [
    "query_engine_tools = [\n",
    "    QueryEngineTool(\n",
    "        query_engine=engine,\n",
    "        metadata=ToolMetadata(\n",
    "            name=\"rfp_collection\",\n",
    "            description=(\n",
    "                \"A catch all tool for any question.\"\n",
    "                \"Use a detailed plain text question as input to the tool.\"\n",
    "            ),\n",
    "        ),\n",
    "    ),\n",
    "    QueryEngineTool(\n",
    "        query_engine=label_index.as_query_engine(llm=Settings.llm),\n",
    "        metadata=ToolMetadata(\n",
    "            name=file_label,\n",
    "            description=(\n",
    "                f\"Provides information about the current working RFP: {file_label}\"\n",
    "                \"Use a detailed plain text question as input to the tool.\"\n",
    "            ),\n",
    "        ),\n",
    "    ),\n",
    "]\n",
    "\n",
    "\n"
   ]
  },
  {
   "cell_type": "code",
   "execution_count": 19,
   "metadata": {},
   "outputs": [],
   "source": [
    "local_agent = OpenAIAgent.from_tools(\n",
    "    query_engine_tools,\n",
    "    llm=function_llm,\n",
    "    verbose=True,\n",
    "    system_prompt=f\"\"\"\\\n",
    "You are an expert in analyzing RFPs and breaking down their requirements from previous incoming RFP requests.\n",
    "You must ALWAYS use at least one of the tools provided when answering a question; do NOT rely on prior knowledge.\\\n",
    "\"\"\",\n",
    ")\n",
    "\n",
    "\n",
    "obj_index = ObjectIndex.from_objects(\n",
    "    query_engine_tools,\n",
    "    index_cls=VectorStoreIndex,\n",
    ")\n",
    "\n",
    "top_agent = OpenAIAgent.from_tools(\n",
    "    tool_retriever=obj_index.as_retriever(similarity_top_k=3),\n",
    "    system_prompt=\"\"\" \\\n",
    "You are an RFP expert designed to help the proposal team understand the requirements of incoming RFPs.\n",
    "Please always use the tools provided to answer a question. Do not rely on prior knowledge.\\\n",
    "\"\"\",\n",
    "    verbose=True,\n",
    ")\n",
    "\n"
   ]
  },
  {
   "cell_type": "code",
   "execution_count": 20,
   "metadata": {},
   "outputs": [
    {
     "name": "stdout",
     "output_type": "stream",
     "text": [
      "Added user message to memory: build a report on the requirements of the incoming RFP: construction, include a list of requirements and a comparison to the advertising and consultancy rfps\n",
      "=== Calling Function ===\n",
      "Calling function: construction with args: {\n",
      "  \"input\": \"What are the requirements of the incoming RFP: construction?\"\n",
      "}\n",
      "Got output: The incoming Request for Proposal (RFP) for construction requires the proposer to demonstrate prior experience with Integrated Project / Construction Management-at-risk delivery methods, with at least one project over $8M in construction costs. They should also have prior experience with delivering projects that have achieved sustainability benchmarks such as LEED or Living Building Challenge. The proposer should have qualified personnel with experience collaborating with Architects and Engineers during Design Phases and qualified Cost Estimators on staff. The proposal should include names, addresses, and descriptions of key subcontractors, a detailed summary of current workload and future commitments, and a description of how the firm will manage material purchases to take advantage of the tax-exempt status of the Owner. The proposal should also provide the amount of, or basis for, compensation for the Pre-Construction Phase and the Construction Phase. The successful proposer should be available to begin work immediately upon selection.\n",
      "========================\n",
      "\n",
      "=== Calling Function ===\n",
      "Calling function: rfp_collection with args: {\n",
      "  \"input\": \"What are the requirements of the advertising RFP?\"\n",
      "}\n",
      "Got output: The advertising RFP requires the bidder to have experience in journalism, interviewing, writing, and other media, with a preference for knowledge and experience in shooting and editing video. Graphical design and layout experience is also required, along with knowledge of marketing automation tools and social media strategies. A Bachelor's degree is required, and knowledge of the non-profit sector is preferred. \n",
      "\n",
      "The bidder's proposal must include a resume or corporate profile, samples of communication and media materials, the minimum and maximum number of hours per month that are required or preferred by the bidder, the hourly rate, any anticipated administrative expenses, any other terms and conditions, a description of the individual’s or firm’s current legal and financial situation, an acknowledgement of agreement to purchase and maintain insurance, and a list of at least three professional references. \n",
      "\n",
      "The proposal should not exceed more than 5 pages, excluding attachments, and should be organized in the order in which the requirements are presented in the RFP. The bidder must also obtain any license or permit required by law to undertake the work as described in the Contract Documents. \n",
      "\n",
      "After the contract is awarded, the contractor must initiate work within five days of Notice to Proceed. The bidder to whom the contract has been awarded must execute a contract within ten business days after the award and submit such other documents as required by the Contract Documents. Failure to do so may result in annulment of the award.\n",
      "========================\n",
      "\n",
      "=== Calling Function ===\n",
      "Calling function: rfp_collection with args: {\n",
      "  \"input\": \"What are the requirements of the consultancy RFP?\"\n",
      "}\n",
      "Got output: The consultancy RFP requires the bidder to provide several materials and follow certain formatting rules. The required materials include a resume or corporate profile, samples of communication and media materials, information on the bidder's availability and hourly rate, anticipated administrative expenses, any other terms or conditions, a description of the bidder's legal and financial situation, proof of insurance, and a list of at least three professional references. The proposal should not exceed 5 pages, excluding attachments, and should be organized in the order of the requirements presented in the RFP. All required information must be included, and failure to do so may result in a request for missing information, a lowered evaluation, or rejection of the proposal. \n",
      "\n",
      "Additionally, the bidder must deliver the proposal by the date and time indicated in the RFP, and changes cannot be made after submission. Only one proposal per individual, firm, partnership, corporation, or association is allowed. If awarded the contract, the bidder must execute a contract within ten business days and submit any other required documents. All contacts with the Town concerning the RFP must be made through the STEP-UP Energy Coach, Suzanne Parmet. The contractor must initiate work within five days of Notice to Proceed and obtain any necessary licenses or permits. The documents to be submitted with the bid include the proposal, affidavits, information regarding the bidder, vendor certification, and a certificate of compliance.\n",
      "========================\n",
      "\n"
     ]
    }
   ],
   "source": [
    "response = top_agent.query(f\"build a report on the requirements of the incoming RFP: construction, include a list of requirements and a comparison to the advertising and consultancy rfps\")\n"
   ]
  },
  {
   "cell_type": "code",
   "execution_count": 21,
   "metadata": {},
   "outputs": [
    {
     "data": {
      "text/plain": [
       "\"The incoming RFP for construction has several requirements that differ from the advertising and consultancy RFPs. Here is a comparison:\\n\\n**Construction RFP:**\\n- Requires prior experience with Integrated Project / Construction Management-at-risk delivery methods, with at least one project over $8M in construction costs.\\n- Requires prior experience with delivering projects that have achieved sustainability benchmarks such as LEED or Living Building Challenge.\\n- Requires qualified personnel with experience collaborating with Architects and Engineers during Design Phases and qualified Cost Estimators on staff.\\n- Proposal should include names, addresses, and descriptions of key subcontractors, a detailed summary of current workload and future commitments, and a description of how the firm will manage material purchases to take advantage of the tax-exempt status of the Owner.\\n- Proposal should provide the amount of, or basis for, compensation for the Pre-Construction Phase and the Construction Phase.\\n- The successful proposer should be available to begin work immediately upon selection.\\n\\n**Advertising RFP:**\\n- Requires experience in journalism, interviewing, writing, and other media, with a preference for knowledge and experience in shooting and editing video.\\n- Requires graphical design and layout experience, along with knowledge of marketing automation tools and social media strategies.\\n- A Bachelor's degree is required, and knowledge of the non-profit sector is preferred.\\n- Proposal must include a resume or corporate profile, samples of communication and media materials, the minimum and maximum number of hours per month that are required or preferred by the bidder, the hourly rate, any anticipated administrative expenses, any other terms and conditions, a description of the individual’s or firm’s current legal and financial situation, an acknowledgement of agreement to purchase and maintain insurance, and a list of at least three professional references.\\n- The proposal should not exceed more than 5 pages, excluding attachments, and should be organized in the order in which the requirements are presented in the RFP.\\n- The bidder must also obtain any license or permit required by law to undertake the work as described in the Contract Documents.\\n\\n**Consultancy RFP:**\\n- Requires a resume or corporate profile, samples of communication and media materials, information on the bidder's availability and hourly rate, anticipated administrative expenses, any other terms or conditions, a description of the bidder's legal and financial situation, proof of insurance, and a list of at least three professional references.\\n- The proposal should not exceed 5 pages, excluding attachments, and should be organized in the order of the requirements presented in the RFP.\\n- All required information must be included, and failure to do so may result in a request for missing information, a lowered evaluation, or rejection of the proposal.\\n- The bidder must deliver the proposal by the date and time indicated in the RFP, and changes cannot be made after submission.\\n- Only one proposal per individual, firm, partnership, corporation, or association is allowed.\\n- If awarded the contract, the bidder must execute a contract within ten business days and submit any other required documents.\\n\\nIn summary, the construction RFP has a stronger focus on prior experience and qualifications, particularly in relation to large-scale projects and sustainability. The advertising and consultancy RFPs have more emphasis on media and communication skills, as well as administrative details such as hourly rates and availability.\""
      ]
     },
     "execution_count": 21,
     "metadata": {},
     "output_type": "execute_result"
    }
   ],
   "source": [
    "response.response"
   ]
  }
 ],
 "metadata": {
  "kernelspec": {
   "display_name": "dev",
   "language": "python",
   "name": "python3"
  },
  "language_info": {
   "codemirror_mode": {
    "name": "ipython",
    "version": 3
   },
   "file_extension": ".py",
   "mimetype": "text/x-python",
   "name": "python",
   "nbconvert_exporter": "python",
   "pygments_lexer": "ipython3",
   "version": "3.11.8"
  }
 },
 "nbformat": 4,
 "nbformat_minor": 2
}
