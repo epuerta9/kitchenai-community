{
 "cells": [
  {
   "cell_type": "code",
   "execution_count": 64,
   "metadata": {},
   "outputs": [],
   "source": [
    "import chromadb\n",
    "from llama_index.core import VectorStoreIndex, StorageContext\n",
    "from llama_index.vector_stores.chroma import ChromaVectorStore\n",
    "from llama_index.core import SummaryIndex\n",
    "\n",
    "from llama_index.llms.openai import OpenAI\n",
    "import os \n",
    "from llama_index.llms.openai import OpenAI\n",
    "from llama_index.embeddings.openai import OpenAIEmbedding\n",
    "from llama_index.core import Settings\n",
    "from llama_index.agent.openai import OpenAIAgent\n",
    "from llama_index.core.tools import QueryEngineTool, ToolMetadata\n",
    "\n",
    "from llama_index.core.objects import ObjectIndex\n",
    "\n",
    "\n",
    "chroma_client = chromadb.PersistentClient(path=\"chroma_db\")\n",
    "chroma_collection = chroma_client.get_or_create_collection(\"quickstart_no_metadata\")\n"
   ]
  },
  {
   "cell_type": "code",
   "execution_count": 65,
   "metadata": {},
   "outputs": [],
   "source": [
    "function_llm = OpenAI(model=\"gpt-4\",  api_base=os.environ.get(\"CLOUDFLARE_API_BASE_URL\", None))\n",
    "Settings.llm = OpenAI(model=\"gpt-4\", api_base=os.environ.get(\"CLOUDFLARE_API_BASE_URL\", None))\n",
    "Settings.embed_model = OpenAIEmbedding(api_base=os.environ.get(\"CLOUDFLARE_API_BASE_URL\", None))"
   ]
  },
  {
   "cell_type": "code",
   "execution_count": 66,
   "metadata": {},
   "outputs": [],
   "source": [
    "vector_store = ChromaVectorStore(chroma_collection=chroma_collection)\n",
    "\n",
    "index = VectorStoreIndex.from_vector_store(\n",
    "    vector_store=vector_store,\n",
    ")\n",
    "\n"
   ]
  },
  {
   "cell_type": "code",
   "execution_count": 74,
   "metadata": {},
   "outputs": [
    {
     "name": "stdout",
     "output_type": "stream",
     "text": [
      "The document is a Request for Proposal (RFP) for a construction project managed by the Incourage Community Foundation. It outlines the requirements for the proposal, including details about subcontracted work, ability to meet timelines, tax-exempt status, and fees for both pre-construction and construction phases. The document also specifies that the proposer must manage material purchases to take advantage of the owner's tax-exempt status. \n",
      "\n",
      "The proposal must include information about the firm, its organization, personnel, hiring practices, qualifications, experience, and any self-performed work. The document also requests examples of the firm's commitment to diversity, sustainability, and connection to place. \n",
      "\n",
      "Proposals were to be submitted by 4:00 p.m. on Friday, February 13, 2015, either by email or hard copy. There were also opportunities for prospective proposers to participate in a site visit and a Q&A webinar. \n",
      "\n",
      "The final selection would be based on the qualifications and experience of the proposer, its ability to meet project timelines, understanding of the project's principles and objectives, and proposed fees. The document also outlines the responsibilities of the owner, including retaining an architect, conducting environmental tests, and providing insurance and bonds.\n"
     ]
    }
   ],
   "source": [
    "engine = index.as_query_engine(llm=Settings.llm)\n",
    "\n",
    "response = engine.query(\"summarize the document for the RFP related toconstruction?\")\n",
    "print(response)"
   ]
  },
  {
   "cell_type": "code",
   "execution_count": 68,
   "metadata": {},
   "outputs": [
    {
     "data": {
      "text/plain": [
       "{'6fd2f931-b87f-4844-87bb-d52831ba290c': {'page_label': '6',\n",
       "  'file_name': 'kitchenai/5faf76ea-ed89-45ae-b977-16ba61427b25/construction-rfp.pdf',\n",
       "  'file_id': 33,\n",
       "  'source': 'kitchenai_cookbook',\n",
       "  'file_label': 'construction'},\n",
       " '4a88ab8a-890f-4f91-979b-f2b661f88abe': {'page_label': '4',\n",
       "  'file_name': 'kitchenai/fa102c5e-2e00-429c-922f-b7976d584b0d/consultancy-rfp.pdf',\n",
       "  'file_id': 31,\n",
       "  'source': 'kitchenai_cookbook',\n",
       "  'file_label': 'consultancy'}}"
      ]
     },
     "execution_count": 68,
     "metadata": {},
     "output_type": "execute_result"
    }
   ],
   "source": [
    "response.metadata\n"
   ]
  },
  {
   "cell_type": "code",
   "execution_count": 69,
   "metadata": {},
   "outputs": [],
   "source": [
    "\n",
    "file_label = \"construction\"\n",
    "\n",
    "label_index = VectorStoreIndex.from_vector_store(\n",
    "    vector_store=vector_store,\n",
    "    filter={\"file_label\": file_label}\n",
    ")\n"
   ]
  },
  {
   "cell_type": "code",
   "execution_count": 70,
   "metadata": {},
   "outputs": [],
   "source": [
    "query_engine_tools = [\n",
    "    QueryEngineTool(\n",
    "        query_engine=engine,\n",
    "        metadata=ToolMetadata(\n",
    "            name=\"rfp_collection\",\n",
    "            description=(\n",
    "                \"A catch all tool for any question.\"\n",
    "                \"Use a detailed plain text question as input to the tool.\"\n",
    "            ),\n",
    "        ),\n",
    "    ),\n",
    "    QueryEngineTool(\n",
    "        query_engine=label_index.as_query_engine(llm=Settings.llm),\n",
    "        metadata=ToolMetadata(\n",
    "            name=file_label,\n",
    "            description=(\n",
    "                f\"Provides information about the current working RFP: {file_label}\"\n",
    "                \"Use a detailed plain text question as input to the tool.\"\n",
    "            ),\n",
    "        ),\n",
    "    ),\n",
    "]\n",
    "\n",
    "\n"
   ]
  },
  {
   "cell_type": "code",
   "execution_count": 71,
   "metadata": {},
   "outputs": [],
   "source": [
    "local_agent = OpenAIAgent.from_tools(\n",
    "    query_engine_tools,\n",
    "    llm=function_llm,\n",
    "    verbose=True,\n",
    "    system_prompt=f\"\"\"\\\n",
    "You are an expert in analyzing RFPs and breaking down their requirements from previous incoming RFP requests.\n",
    "You must ALWAYS use at least one of the tools provided when answering a question; do NOT rely on prior knowledge.\\\n",
    "\"\"\",\n",
    ")\n",
    "\n",
    "\n",
    "obj_index = ObjectIndex.from_objects(\n",
    "    query_engine_tools,\n",
    "    index_cls=VectorStoreIndex,\n",
    ")\n",
    "\n",
    "top_agent = OpenAIAgent.from_tools(\n",
    "    tool_retriever=obj_index.as_retriever(similarity_top_k=3),\n",
    "    system_prompt=\"\"\" \\\n",
    "You are an RFP expert designed to help the proposal team understand the requirements of incoming RFPs.\n",
    "Please always use the tools provided to answer a question. Do not rely on prior knowledge.\\\n",
    "\"\"\",\n",
    "    verbose=True,\n",
    ")\n",
    "\n"
   ]
  },
  {
   "cell_type": "code",
   "execution_count": 72,
   "metadata": {},
   "outputs": [
    {
     "name": "stdout",
     "output_type": "stream",
     "text": [
      "Added user message to memory: build a report on the requirements of the incoming RFP: construction, include a list of requirements and a comparison to the advertising and consultancy rfps\n",
      "=== Calling Function ===\n",
      "Calling function: construction with args: {\n",
      "\"input\": \"What are the requirements of the incoming RFP: construction?\"\n",
      "}\n",
      "Got output: The incoming Request for Proposal (RFP) for construction requires the proposers to demonstrate prior experience with Integrated Project / Construction Management-at-risk delivery methods, with at least one project over $8M in construction costs. They should also have prior experience with delivering projects that have achieved sustainability benchmarks such as LEED, Living Building Challenge. The proposers should have qualified personnel with experience collaborating with Architects and Engineers during Design Phases and qualified Cost Estimators on staff. The successful proposer should be available to begin work immediately upon selection and be prepared for project activities to commence. They should also be able to work within the project timeline, with the understanding that there may be adjustments as the project evolves. Non-selection as the Construction Manager under this RFP does not impact the proposer’s opportunity to participate in the Project as a sub-contractor.\n",
      "========================\n",
      "\n",
      "=== Calling Function ===\n",
      "Calling function: rfp_collection with args: {\n",
      "\"input\": \"What are the requirements of the advertising RFP?\"\n",
      "}\n",
      "Got output: The advertising RFP requires the bidder to have experience in journalism, interviewing, writing, and other media, with a preference for knowledge and experience in shooting and editing video. Graphical design and layout experience is also required, along with knowledge of marketing automation tools and social media strategies. A Bachelor's degree is required, and knowledge of the non-profit sector is preferred.\n",
      "\n",
      "The bidder's proposal must include a resume or corporate profile, samples of communication and media materials, the minimum and maximum number of hours per month that are required or preferred, the hourly rate, any anticipated administrative expenses, any other terms and conditions, a description of the individual’s or firm’s current legal and financial situation, an acknowledgement of agreement to purchase and maintain insurance, and a list of at least three professional references.\n",
      "\n",
      "The proposal should not exceed more than 5 pages, excluding attachments, and should be organized in the order in which the requirements are presented in the RFP. It should clearly indicate the section of the RFP that is being addressed and include all of the required information. Failure to submit all required information may result in a request for prompt submission of missing information, a lowered evaluation of the proposal, or rejection of the proposal.\n",
      "\n",
      "The bidder must also execute a contract within ten business days after the award and submit other required documents. All contacts with the Town concerning the RFP must be made through the STEP-UP Energy Coach, Suzanne Parmet. The contractor will initiate work within five days of Notice to Proceed. The bidder is also required to obtain any license or permit required by law to undertake the work. Documents to be submitted with the bid include the proposal, affidavits, information regarding the bidder, vendor certification, and a certificate of compliance.\n",
      "========================\n",
      "\n",
      "=== Calling Function ===\n",
      "Calling function: rfp_collection with args: {\n",
      "\"input\": \"What are the requirements of the consultancy RFP?\"\n",
      "}\n",
      "Got output: The consultancy RFP requires the bidder to provide a proposal that includes a resume or corporate profile, samples of communication and media materials, the minimum and maximum number of hours per month that are required or preferred by the bidder, the hourly rate, any anticipated administrative expenses, any other terms and conditions, a description of the bidder's current legal and financial situation, an acknowledgement of agreement to purchase and maintain insurance, and a list of at least three professional references. The proposal should not exceed more than 5 pages, excluding attachments, and should be organized in the order of the requirements presented in the RFP. The bidder must also execute a contract within ten business days after the award and submit other required documents. The bidder should initiate work within five days of Notice to Proceed and obtain any license or permit required by law to undertake the work. The documents to be submitted with the bid include the proposal, affidavits, information regarding the bidder, vendor certification, and a certificate of compliance.\n",
      "========================\n",
      "\n"
     ]
    }
   ],
   "source": [
    "response = top_agent.query(f\"build a report on the requirements of the incoming RFP: construction, include a list of requirements and a comparison to the advertising and consultancy rfps\")\n"
   ]
  },
  {
   "cell_type": "code",
   "execution_count": 73,
   "metadata": {},
   "outputs": [
    {
     "data": {
      "text/plain": [
       "\"The requirements for the incoming RFP for construction, advertising, and consultancy are as follows:\\n\\n**Construction RFP Requirements:**\\n1. Demonstrated prior experience with Integrated Project / Construction Management-at-risk delivery methods, with at least one project over $8M in construction costs.\\n2. Prior experience with delivering projects that have achieved sustainability benchmarks such as LEED, Living Building Challenge.\\n3. Qualified personnel with experience collaborating with Architects and Engineers during Design Phases and qualified Cost Estimators on staff.\\n4. Availability to begin work immediately upon selection and preparedness for project activities to commence.\\n5. Ability to work within the project timeline, with the understanding that there may be adjustments as the project evolves.\\n6. Non-selection as the Construction Manager under this RFP does not impact the proposer’s opportunity to participate in the Project as a sub-contractor.\\n\\n**Advertising RFP Requirements:**\\n1. Experience in journalism, interviewing, writing, and other media, with a preference for knowledge and experience in shooting and editing video.\\n2. Graphical design and layout experience, along with knowledge of marketing automation tools and social media strategies.\\n3. A Bachelor's degree is required, and knowledge of the non-profit sector is preferred.\\n4. The proposal must include a resume or corporate profile, samples of communication and media materials, the minimum and maximum number of hours per month that are required or preferred, the hourly rate, any anticipated administrative expenses, any other terms and conditions, a description of the individual’s or firm’s current legal and financial situation, an acknowledgement of agreement to purchase and maintain insurance, and a list of at least three professional references.\\n5. The proposal should not exceed more than 5 pages, excluding attachments, and should be organized in the order in which the requirements are presented in the RFP.\\n\\n**Consultancy RFP Requirements:**\\n1. The proposal must include a resume or corporate profile, samples of communication and media materials, the minimum and maximum number of hours per month that are required or preferred by the bidder, the hourly rate, any anticipated administrative expenses, any other terms and conditions, a description of the bidder's current legal and financial situation, an acknowledgement of agreement to purchase and maintain insurance, and a list of at least three professional references.\\n2. The proposal should not exceed more than 5 pages, excluding attachments, and should be organized in the order of the requirements presented in the RFP.\\n3. The bidder must also execute a contract within ten business days after the award and submit other required documents.\\n\\n**Comparison:**\\nThe construction RFP is more focused on the technical and practical aspects of construction, requiring specific experience and qualifications in the field. The advertising and consultancy RFPs, on the other hand, are more focused on the bidder's experience and skills in communication, media, and consulting. They also require a detailed proposal that includes a variety of information about the bidder and their services. The construction RFP does not specify a page limit for the proposal, unlike the advertising and consultancy RFPs which limit the proposal to 5 pages excluding attachments.\""
      ]
     },
     "execution_count": 73,
     "metadata": {},
     "output_type": "execute_result"
    }
   ],
   "source": [
    "response.response"
   ]
  }
 ],
 "metadata": {
  "kernelspec": {
   "display_name": "dev",
   "language": "python",
   "name": "python3"
  },
  "language_info": {
   "codemirror_mode": {
    "name": "ipython",
    "version": 3
   },
   "file_extension": ".py",
   "mimetype": "text/x-python",
   "name": "python",
   "nbconvert_exporter": "python",
   "pygments_lexer": "ipython3",
   "version": "3.11.8"
  }
 },
 "nbformat": 4,
 "nbformat_minor": 2
}
