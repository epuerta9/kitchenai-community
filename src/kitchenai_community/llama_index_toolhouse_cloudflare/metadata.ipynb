{
 "cells": [
  {
   "cell_type": "code",
   "execution_count": 2,
   "metadata": {},
   "outputs": [],
   "source": [
    "import chromadb\n",
    "from llama_index.core import VectorStoreIndex\n",
    "from llama_index.vector_stores.chroma import ChromaVectorStore\n",
    "\n",
    "from llama_index.llms.openai import OpenAI\n",
    "import os \n",
    "from llama_index.llms.openai import OpenAI\n",
    "from llama_index.embeddings.openai import OpenAIEmbedding\n",
    "from llama_index.core import Settings\n",
    "from llama_index.agent.openai import OpenAIAgent\n",
    "from llama_index.core.tools import QueryEngineTool, ToolMetadata\n",
    "from llama_index.core.objects import ObjectIndex\n",
    "\n",
    "\n",
    "chroma_client = chromadb.PersistentClient(path=\"chroma_db\")\n",
    "chroma_collection = chroma_client.get_or_create_collection(\"quickstart\")\n"
   ]
  },
  {
   "cell_type": "code",
   "execution_count": 3,
   "metadata": {},
   "outputs": [],
   "source": [
    "function_llm = OpenAI(model=\"gpt-4\",  api_base=os.environ.get(\"CLOUDFLARE_API_BASE_URL\", None))\n",
    "Settings.llm = OpenAI(model=\"gpt-4\", api_base=os.environ.get(\"CLOUDFLARE_API_BASE_URL\", None))\n",
    "Settings.embed_model = OpenAIEmbedding(api_base=os.environ.get(\"CLOUDFLARE_API_BASE_URL\", None))"
   ]
  },
  {
   "cell_type": "code",
   "execution_count": 4,
   "metadata": {},
   "outputs": [],
   "source": [
    "vector_store = ChromaVectorStore(chroma_collection=chroma_collection)\n",
    "\n",
    "index = VectorStoreIndex.from_vector_store(\n",
    "    vector_store=vector_store,\n",
    ")\n",
    "\n"
   ]
  },
  {
   "cell_type": "code",
   "execution_count": 5,
   "metadata": {},
   "outputs": [
    {
     "name": "stdout",
     "output_type": "stream",
     "text": [
      "The document outlines the responsibilities of the Construction Manager and the Owner in a construction project. The Construction Manager must comply with all applicable laws, regulations, and programs. The Owner is responsible for retaining an Architect for various services related to the project, and for costs related to environmental studies, surveys, and geotechnical services. The Owner also has a designated representative to assist in decision making. The Construction Manager is required to maintain insurance as set forth in the Construction Contract. The document also provides a detailed format for proposals, which includes information about the proposer, the organization, personnel, hiring practices, qualifications and experience, sustainability experience, connection to place, and self-performed work.\n"
     ]
    }
   ],
   "source": [
    "engine = index.as_query_engine(llm=Settings.llm)\n",
    "\n",
    "response = engine.query(\"summarize the document for the RFP related to construction?\")\n",
    "print(response)"
   ]
  },
  {
   "cell_type": "code",
   "execution_count": 6,
   "metadata": {},
   "outputs": [
    {
     "data": {
      "text/plain": [
       "{'157c5b6f-c504-4903-8cb3-b0c0a42b8169': {'page_label': '4',\n",
       "  'file_name': 'kitchenai/fa102c5e-2e00-429c-922f-b7976d584b0d/consultancy-rfp.pdf',\n",
       "  'file_id': 31,\n",
       "  'source': 'kitchenai_cookbook',\n",
       "  'file_label': 'consultancy',\n",
       "  'document_title': '\"Guidelines and Requirements for Contract Bidding on the Town\\'s Request for Proposal (RFP)\"',\n",
       "  'questions_this_excerpt_can_answer': '1. What is the consequence if a bidder submits more than one proposal for the same contract according to the document from kitchenai_cookbook?\\n2. Who is the designated contact person for all inquiries regarding the RFP as per the document in the kitchenai_cookbook?\\n3. What is the stipulated time frame for the execution of the contract after it has been awarded according to the guidelines in the consultancy-rfp.pdf document?\\n4. What is the requirement for initiating work after the execution of the contract as per the guidelines in the consultancy-rfp.pdf document?\\n5. What are the documents that a bidder needs to submit with their bid as per the guidelines in the consultancy-rfp.pdf document?'},\n",
       " 'c1f71de2-3394-4987-b5b5-91685f0b6544': {'page_label': '5',\n",
       "  'file_name': 'kitchenai/5faf76ea-ed89-45ae-b977-16ba61427b25/construction-rfp.pdf',\n",
       "  'file_id': 33,\n",
       "  'source': 'kitchenai_cookbook',\n",
       "  'file_label': 'construction',\n",
       "  'document_title': '\"Guidelines for Contractual Responsibilities, Insurance, and Proposal Requirements in Construction Projects\"',\n",
       "  'questions_this_excerpt_can_answer': \"1. What are the responsibilities of the Construction Manager as per the guidelines in the document?\\n2. What are the responsibilities of the Owner in the construction project according to the document?\\n3. What are the requirements for the proposal format as mentioned in the document?\\n4. What kind of insurance is required by the Construction Manager for the project as per the document?\\n5. What are the specific roles of the Owner's Designated Representative in the construction project as outlined in the document? \\n\\nHigher-level summaries:\\nThe document outlines the responsibilities of the Construction Manager and the Owner in a construction project. It also provides guidelines for insurance and bonds, and details the format for proposals.\\n\\nUsing these summaries, here are some more questions:\\n\\n1. What are the legal and regulatory compliances the Construction Manager must adhere to as per the document?\\n2. What are the specific services the Owner is expected to retain an Architect for in the construction project?\\n3. What kind of environmental studies and services is the Owner responsible for in the project?\\n4. What are the specific details that need to be included in the 'Proposer Information' section of the proposal as per the document?\\n5. What are the expectations from the Construction Manager in terms of insurance for the project?\"}}"
      ]
     },
     "execution_count": 6,
     "metadata": {},
     "output_type": "execute_result"
    }
   ],
   "source": [
    "response.metadata\n"
   ]
  },
  {
   "cell_type": "code",
   "execution_count": 7,
   "metadata": {},
   "outputs": [],
   "source": [
    "file_label = \"construction\"\n",
    "\n",
    "label_index = VectorStoreIndex.from_vector_store(\n",
    "    vector_store=vector_store,\n",
    "    filter={\"file_label\": file_label}\n",
    ")\n"
   ]
  },
  {
   "cell_type": "code",
   "execution_count": 8,
   "metadata": {},
   "outputs": [],
   "source": [
    "query_engine_tools = [\n",
    "    QueryEngineTool(\n",
    "        query_engine=engine,\n",
    "        metadata=ToolMetadata(\n",
    "            name=\"rfp_collection\",\n",
    "            description=(\n",
    "                \"A catch all tool for any question.\"\n",
    "                \"Use a detailed plain text question as input to the tool.\"\n",
    "            ),\n",
    "        ),\n",
    "    ),\n",
    "    QueryEngineTool(\n",
    "        query_engine=label_index.as_query_engine(llm=Settings.llm),\n",
    "        metadata=ToolMetadata(\n",
    "            name=file_label,\n",
    "            description=(\n",
    "                f\"Provides information about the current working RFP: {file_label}\"\n",
    "                \"Use a detailed plain text question as input to the tool.\"\n",
    "            ),\n",
    "        ),\n",
    "    ),\n",
    "]\n",
    "\n"
   ]
  },
  {
   "cell_type": "code",
   "execution_count": 9,
   "metadata": {},
   "outputs": [],
   "source": [
    "local_agent = OpenAIAgent.from_tools(\n",
    "    query_engine_tools,\n",
    "    llm=function_llm,\n",
    "    verbose=True,\n",
    "    system_prompt=f\"\"\"\\\n",
    "You are an expert in analyzing RFPs and breaking down their requirements from previous incoming RFP requests.\n",
    "You must ALWAYS use at least one of the tools provided when answering a question; do NOT rely on prior knowledge.\\\n",
    "\"\"\",\n",
    ")\n",
    "\n",
    "\n",
    "obj_index = ObjectIndex.from_objects(\n",
    "    query_engine_tools,\n",
    "    index_cls=VectorStoreIndex,\n",
    ")\n",
    "\n",
    "top_agent = OpenAIAgent.from_tools(\n",
    "    tool_retriever=obj_index.as_retriever(similarity_top_k=3),\n",
    "    system_prompt=\"\"\" \\\n",
    "You are an RFP expert designed to help the proposal team understand the requirements of incoming RFPs.\n",
    "Please always use the tools provided to answer a question. Do not rely on prior knowledge.\\\n",
    "\"\"\",\n",
    "    verbose=True,\n",
    ")"
   ]
  },
  {
   "cell_type": "code",
   "execution_count": 10,
   "metadata": {},
   "outputs": [
    {
     "name": "stdout",
     "output_type": "stream",
     "text": [
      "Added user message to memory: build a report on the requirements of the incoming RFP: construction, include a list of requirements and a comparison to the advertising and consultancy rfps\n",
      "=== Calling Function ===\n",
      "Calling function: construction with args: {\n",
      "\"input\": \"What are the requirements of the incoming RFP: construction?\"\n",
      "}\n",
      "Got output: The requirements for the incoming RFP: construction include demonstrating prior experience with Integrated Project / Construction Management-at-risk delivery methods, specifically completion of at least one project over $8M in construction costs. The proposer should also have prior experience with delivering projects that have achieved sustainability benchmarks such as LEED or Living Building Challenge. The proposal should include qualified personnel with experience collaborating with Architects and Engineers during Design Phases and have qualified Cost Estimators on staff. After selection, the Construction Manager should collaborate with Incourage Community Foundation to define and elaborate upon the final scope of work. The successful proposer should be available to begin work immediately upon selection and be prepared for project activities to commence. They should also acknowledge their ability to work within the project timeline, while understanding that there may be adjustments as the project evolves.\n",
      "========================\n",
      "\n",
      "=== Calling Function ===\n",
      "Calling function: rfp_collection with args: {\n",
      "\"input\": \"What are the requirements of the advertising RFP?\"\n",
      "}\n",
      "Got output: The requirements for the media and communication consulting services RFP include demonstrated experience in journalism, interviewing, writing, and other media, knowledge of and experience with shooting and editing video, graphical design and layout experience, and knowledge of marketing automation tools and social media strategies. A bachelor's degree is required, and knowledge of the non-profit sector is preferred. The proposal must include a resume or corporate profile, samples of communication and media materials, a description of the bidder's current legal and financial situation, and an acknowledgement that the bidder agrees to purchase and maintain certain types of insurance. The proposal should not exceed more than 5 pages, excluding attachments, and should be organized in the order in which the requirements are presented in the RFP. Failure to submit all required information may result in a request for prompt submission of missing information, a lowered evaluation of the proposal, or rejection of the proposal.\n",
      "========================\n",
      "\n",
      "=== Calling Function ===\n",
      "Calling function: rfp_collection with args: {\n",
      "\"input\": \"What are the requirements of the consultancy RFP?\"\n",
      "}\n",
      "Got output: The consultancy RFP requires that a bidder's proposal must be complete, in the format indicated, and delivered by the specified date and time. Bidders are not allowed to change any part of a proposal after submission and can only submit one proposal for the contract. If a bidder submits more than one proposal, it could lead to disqualification or rejection unless prior approval has been given by the Town. \n",
      "\n",
      "Once the contract is awarded, the bidder must execute a contract similar to the one attached within ten business days and submit other required documents. Failure to do so may result in the annulment of the award. The contractor must initiate work within five days of Notice to Proceed. \n",
      "\n",
      "The bidder is also required to obtain any license or permit required by law to undertake the work. The documents to be submitted with the bid include the proposal, affidavits, information regarding the bidder, vendor certification, and a certificate of compliance.\n",
      "\n",
      "For the provision of media and communication consulting services, the bidder must demonstrate experience in journalism, interviewing, writing, and other media. Knowledge of shooting and editing video, graphical design, layout experience, marketing automation tools, and social media strategies are preferred. A bachelor's degree is required, and knowledge of the non-profit sector is preferred.\n",
      "\n",
      "The proposal must include a resume or corporate profile, samples of communication and media materials, the minimum and maximum number of hours per month required or preferred by the bidder, the hourly rate, any anticipated administrative expenses, any other terms and conditions, a description of the bidder's current legal and financial situation, an acknowledgement of agreement to purchase and maintain insurance, and a list of at least three professional references. The proposal should not exceed more than 5-pages, excluding attachments, and should be organized in the order in which the requirements are presented in the RFP.\n",
      "========================\n",
      "\n"
     ]
    }
   ],
   "source": [
    "response = top_agent.query(f\"build a report on the requirements of the incoming RFP: construction, include a list of requirements and a comparison to the advertising and consultancy rfps\")\n"
   ]
  },
  {
   "cell_type": "code",
   "execution_count": 11,
   "metadata": {},
   "outputs": [
    {
     "data": {
      "text/plain": [
       "\"The requirements for the incoming RFPs are as follows:\\n\\n**Construction RFP:**\\n1. Demonstrated prior experience with Integrated Project / Construction Management-at-risk delivery methods, specifically completion of at least one project over $8M in construction costs.\\n2. Prior experience with delivering projects that have achieved sustainability benchmarks such as LEED or Living Building Challenge.\\n3. Qualified personnel with experience collaborating with Architects and Engineers during Design Phases.\\n4. Qualified Cost Estimators on staff.\\n5. Collaboration with Incourage Community Foundation to define and elaborate upon the final scope of work.\\n6. Availability to begin work immediately upon selection and preparedness for project activities to commence.\\n7. Acknowledgement of ability to work within the project timeline, with understanding of potential adjustments as the project evolves.\\n\\n**Advertising RFP:**\\n1. Demonstrated experience in journalism, interviewing, writing, and other media.\\n2. Knowledge of and experience with shooting and editing video, graphical design and layout experience.\\n3. Knowledge of marketing automation tools and social media strategies.\\n4. A bachelor's degree.\\n5. Knowledge of the non-profit sector is preferred.\\n6. Submission of a resume or corporate profile, samples of communication and media materials, a description of the bidder's current legal and financial situation, and an acknowledgement that the bidder agrees to purchase and maintain certain types of insurance.\\n\\n**Consultancy RFP:**\\n1. Complete proposal in the indicated format, delivered by the specified date and time.\\n2. No changes to the proposal after submission and only one proposal submission per contract.\\n3. Execution of a contract similar to the one attached within ten business days and submission of other required documents.\\n4. Initiation of work within five days of Notice to Proceed.\\n5. Obtainment of any license or permit required by law to undertake the work.\\n6. Submission of the proposal, affidavits, information regarding the bidder, vendor certification, and a certificate of compliance.\\n7. Demonstrated experience in journalism, interviewing, writing, and other media.\\n8. Knowledge of shooting and editing video, graphical design, layout experience, marketing automation tools, and social media strategies.\\n9. A bachelor's degree.\\n10. Knowledge of the non-profit sector is preferred.\\n11. Submission of a resume or corporate profile, samples of communication and media materials, the minimum and maximum number of hours per month required or preferred by the bidder, the hourly rate, any anticipated administrative expenses, any other terms and conditions, a description of the bidder's current legal and financial situation, an acknowledgement of agreement to purchase and maintain insurance, and a list of at least three professional references.\\n\\nIn comparison, the Construction RFP focuses more on the technical aspects of construction and project management, while the Advertising and Consultancy RFPs emphasize media, communication, and consulting skills. The Construction RFP also requires specific experience with large-scale projects and sustainability benchmarks, which are not required in the other two RFPs.\""
      ]
     },
     "execution_count": 11,
     "metadata": {},
     "output_type": "execute_result"
    }
   ],
   "source": [
    "response.response"
   ]
  }
 ],
 "metadata": {
  "kernelspec": {
   "display_name": "dev",
   "language": "python",
   "name": "python3"
  },
  "language_info": {
   "codemirror_mode": {
    "name": "ipython",
    "version": 3
   },
   "file_extension": ".py",
   "mimetype": "text/x-python",
   "name": "python",
   "nbconvert_exporter": "python",
   "pygments_lexer": "ipython3",
   "version": "3.11.8"
  }
 },
 "nbformat": 4,
 "nbformat_minor": 2
}
