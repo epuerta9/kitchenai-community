{
 "cells": [
  {
   "cell_type": "code",
   "execution_count": 12,
   "metadata": {},
   "outputs": [],
   "source": [
    "import chromadb\n",
    "from llama_index.core import VectorStoreIndex\n",
    "from llama_index.vector_stores.chroma import ChromaVectorStore\n",
    "\n",
    "from llama_index.llms.openai import OpenAI\n",
    "import os \n",
    "from llama_index.llms.openai import OpenAI\n",
    "from llama_index.embeddings.openai import OpenAIEmbedding\n",
    "from llama_index.core import Settings\n",
    "from llama_index.agent.openai import OpenAIAgent\n",
    "from llama_index.core.tools import QueryEngineTool, ToolMetadata\n",
    "from llama_index.core.objects import ObjectIndex\n",
    "\n",
    "\n",
    "chroma_client = chromadb.PersistentClient(path=\"chroma_db\")\n",
    "chroma_collection = chroma_client.get_or_create_collection(\"quickstart\")\n"
   ]
  },
  {
   "cell_type": "code",
   "execution_count": 13,
   "metadata": {},
   "outputs": [],
   "source": [
    "function_llm = OpenAI(model=\"gpt-4\",  api_base=os.environ.get(\"CLOUDFLARE_API_BASE_URL\", None))\n",
    "Settings.llm = OpenAI(model=\"gpt-4\", api_base=os.environ.get(\"CLOUDFLARE_API_BASE_URL\", None))\n",
    "Settings.embed_model = OpenAIEmbedding(api_base=os.environ.get(\"CLOUDFLARE_API_BASE_URL\", None))"
   ]
  },
  {
   "cell_type": "code",
   "execution_count": 14,
   "metadata": {},
   "outputs": [],
   "source": [
    "vector_store = ChromaVectorStore(chroma_collection=chroma_collection)\n",
    "\n",
    "index = VectorStoreIndex.from_vector_store(\n",
    "    vector_store=vector_store,\n",
    ")\n",
    "\n"
   ]
  },
  {
   "cell_type": "code",
   "execution_count": 23,
   "metadata": {},
   "outputs": [
    {
     "name": "stdout",
     "output_type": "stream",
     "text": [
      "The document provides comprehensive guidelines for construction projects, outlining the responsibilities of the Construction Manager and the Owner. The Construction Manager is required to comply with all applicable laws, statutes, ordinances, codes, rules, regulations, and lawful orders of public authorities. They are also required to maintain insurance as set forth in the Construction Contract.\n",
      "\n",
      "The Owner, on the other hand, is responsible for retaining an Architect for various services related to the project, including Program Verification, Criteria Design, Detailed Design, and Implementation Documents. The Owner is also responsible for costs related to environmental studies, surveys, and geotechnical services related to the project.\n",
      "\n",
      "The document also outlines the role of the Owner's Designated Representative, who assists the Owner in decision-making and is expected to render decisions promptly to avoid delays.\n",
      "\n",
      "The document provides a detailed format for proposals, which includes sections on Proposer Information, Organization, Personnel, Hiring Practices, Qualifications and Experience, Sustainability Experience, Connection to Place, and Self-Performed Work.\n",
      "\n",
      "In terms of contracts, the Construction Manager is required to guarantee that the Contract Sum does not exceed the Guaranteed Maximum Price. If the Cost of the Work exceeds the Guaranteed Maximum Price, the Construction Manager bears the excess costs. The document also outlines the procedure for selecting subcontractors and suppliers, and the protocol for changes in the Work. The Construction Manager is also responsible for cost control and reporting, including regular monitoring of actual costs for activities in progress and estimates for uncompleted tasks and proposed changes.\n"
     ]
    }
   ],
   "source": [
    "engine = index.as_query_engine(llm=Settings.llm)\n",
    "\n",
    "response = engine.query(\"summarize in detail,the document related to construction?\")\n",
    "print(response)"
   ]
  },
  {
   "cell_type": "code",
   "execution_count": 16,
   "metadata": {},
   "outputs": [
    {
     "data": {
      "text/plain": [
       "{'157c5b6f-c504-4903-8cb3-b0c0a42b8169': {'page_label': '4',\n",
       "  'file_name': 'kitchenai/fa102c5e-2e00-429c-922f-b7976d584b0d/consultancy-rfp.pdf',\n",
       "  'file_id': 31,\n",
       "  'source': 'kitchenai_cookbook',\n",
       "  'file_label': 'consultancy',\n",
       "  'document_title': '\"Guidelines and Requirements for Contract Bidding on the Town\\'s Request for Proposal (RFP)\"',\n",
       "  'questions_this_excerpt_can_answer': '1. What is the consequence if a bidder submits more than one proposal for the same contract according to the document from kitchenai_cookbook?\\n2. Who is the designated contact person for all inquiries regarding the RFP as per the document in the kitchenai_cookbook?\\n3. What is the stipulated time frame for the execution of the contract after it has been awarded according to the guidelines in the consultancy-rfp.pdf document?\\n4. What is the requirement for initiating work after the execution of the contract as per the guidelines in the consultancy-rfp.pdf document?\\n5. What are the documents that a bidder needs to submit with their bid as per the guidelines in the consultancy-rfp.pdf document?'},\n",
       " 'b47ed406-fdc7-4019-aa87-df07cb8c83f6': {'page_label': '3',\n",
       "  'file_name': 'kitchenai/fa102c5e-2e00-429c-922f-b7976d584b0d/consultancy-rfp.pdf',\n",
       "  'file_id': 31,\n",
       "  'source': 'kitchenai_cookbook',\n",
       "  'file_label': 'consultancy',\n",
       "  'document_title': '\"Request for Proposals: Communications Consultant Role for STEP-UP Program - Terms, Conditions, and Responsibilities\"',\n",
       "  'questions_this_excerpt_can_answer': '1. What is the purpose of the Request for Proposals (RFP) mentioned in the document from KitchenAI\\'s \"consultancy-rfp.pdf\" file?\\n2. What are the responsibilities of the Communications Consultant for the STEP-UP program as outlined in the document from KitchenAI\\'s \"consultancy-rfp.pdf\" file?\\n3. What are the terms and conditions for the RFP bid as mentioned in the document from KitchenAI\\'s \"consultancy-rfp.pdf\" file?\\n4. What is the commencement date of the consulting engagement with STEP-UP as mentioned in the document from KitchenAI\\'s \"consultancy-rfp.pdf\" file?\\n5. How will the Town of University Park handle revisions to the RFP as mentioned in the document from KitchenAI\\'s \"consultancy-rfp.pdf\" file?'}}"
      ]
     },
     "execution_count": 16,
     "metadata": {},
     "output_type": "execute_result"
    }
   ],
   "source": [
    "response.metadata\n"
   ]
  },
  {
   "cell_type": "code",
   "execution_count": 17,
   "metadata": {},
   "outputs": [],
   "source": [
    "file_label = \"construction\"\n",
    "\n",
    "label_index = VectorStoreIndex.from_vector_store(\n",
    "    vector_store=vector_store,\n",
    "    filter={\"file_label\": file_label}\n",
    ")\n"
   ]
  },
  {
   "cell_type": "code",
   "execution_count": 18,
   "metadata": {},
   "outputs": [],
   "source": [
    "query_engine_tools = [\n",
    "    QueryEngineTool(\n",
    "        query_engine=engine,\n",
    "        metadata=ToolMetadata(\n",
    "            name=\"rfp_collection\",\n",
    "            description=(\n",
    "                \"A catch all tool for any question.\"\n",
    "                \"Use a detailed plain text question as input to the tool.\"\n",
    "            ),\n",
    "        ),\n",
    "    ),\n",
    "    QueryEngineTool(\n",
    "        query_engine=label_index.as_query_engine(llm=Settings.llm),\n",
    "        metadata=ToolMetadata(\n",
    "            name=file_label,\n",
    "            description=(\n",
    "                f\"Provides information about the current working RFP: {file_label}\"\n",
    "                \"Use a detailed plain text question as input to the tool.\"\n",
    "            ),\n",
    "        ),\n",
    "    ),\n",
    "]\n",
    "\n"
   ]
  },
  {
   "cell_type": "code",
   "execution_count": 19,
   "metadata": {},
   "outputs": [],
   "source": [
    "local_agent = OpenAIAgent.from_tools(\n",
    "    query_engine_tools,\n",
    "    llm=function_llm,\n",
    "    verbose=True,\n",
    "    system_prompt=f\"\"\"\\\n",
    "You are an expert in analyzing RFPs and breaking down their requirements from previous incoming RFP requests.\n",
    "You must ALWAYS use at least one of the tools provided when answering a question; do NOT rely on prior knowledge.\\\n",
    "\"\"\",\n",
    ")\n",
    "\n",
    "\n",
    "obj_index = ObjectIndex.from_objects(\n",
    "    query_engine_tools,\n",
    "    index_cls=VectorStoreIndex,\n",
    ")\n",
    "\n",
    "top_agent = OpenAIAgent.from_tools(\n",
    "    tool_retriever=obj_index.as_retriever(similarity_top_k=3),\n",
    "    system_prompt=\"\"\" \\\n",
    "You are an RFP expert designed to help the proposal team understand the requirements of incoming RFPs.\n",
    "Please always use the tools provided to answer a question. Do not rely on prior knowledge.\\\n",
    "\"\"\",\n",
    "    verbose=True,\n",
    ")"
   ]
  },
  {
   "cell_type": "code",
   "execution_count": 20,
   "metadata": {},
   "outputs": [
    {
     "name": "stdout",
     "output_type": "stream",
     "text": [
      "Added user message to memory: build a report on the requirements of the incoming RFP: construction, include a list of requirements and a comparison to the advertising and consultancy rfps\n",
      "=== Calling Function ===\n",
      "Calling function: construction with args: {\n",
      "\"input\": \"What are the requirements of the incoming RFP: construction?\"\n",
      "}\n",
      "Got output: The requirements for the incoming RFP: construction include demonstrating prior experience with Integrated Project / Construction Management-at-risk delivery methods, specifically completion of at least one project over $8M in construction costs. The proposer should also have prior experience with delivering projects that have achieved sustainability benchmarks such as LEED or Living Building Challenge. The proposal should include qualified personnel with experience collaborating with Architects and Engineers during Design Phases and have qualified Cost Estimators on staff. The successful proposer should be available to begin work immediately upon selection and should be prepared for project activities to commence. They should also be able to work within the project timeline provided in Exhibit C, acknowledging that there may be adjustments to the timeline as the Project evolves.\n",
      "========================\n",
      "\n",
      "=== Calling Function ===\n",
      "Calling function: rfp_collection with args: {\n",
      "\"input\": \"What are the requirements of the advertising RFP?\"\n",
      "}\n",
      "Got output: The requirements for the advertising RFP are not specified in the provided context. The context only provides information about a Request for Proposal for media and communication consulting services, not advertising.\n",
      "========================\n",
      "\n",
      "=== Calling Function ===\n",
      "Calling function: rfp_collection with args: {\n",
      "\"input\": \"What are the requirements of the consultancy RFP?\"\n",
      "}\n",
      "Got output: The consultancy RFP has several requirements. Firstly, a bidder's proposal must be complete, in the format indicated in the RFP, and delivered by the specified date and time. A bidder can only submit one proposal for the contract. If more than one proposal is submitted, it could lead to disqualification or rejection unless prior approval has been given by the town.\n",
      "\n",
      "The bidder who is awarded the contract must execute a contract similar to the one attached within ten business days after the award and submit other required documents. If the contractor fails to do so, it could lead to the annulment of the award. After the contract is executed, work must be initiated within five days of the Notice to Proceed.\n",
      "\n",
      "The bidder must also obtain any license or permit required by law to undertake the work. The documents to be submitted with the bid include the proposal, affidavits, information regarding the bidder, vendor certification, and a certificate of compliance.\n",
      "\n",
      "For the provision of media and communication consulting services, the bidder must demonstrate experience in journalism, interviewing, writing, and other media. Knowledge of shooting and editing video, graphical design and layout, marketing automation tools, and social media strategies is preferred. A bachelor's degree is required, and knowledge of the non-profit sector is preferred.\n",
      "\n",
      "The proposal must include a resume or corporate profile, samples of communication and media materials, the minimum and maximum number of hours per month required or preferred by the bidder, the hourly rate, any anticipated administrative expenses, any other terms and conditions, a description of the individual’s or firm’s current legal and financial situation, an acknowledgement of agreement to purchase and maintain insurance, and a list of at least three professional references. The proposal should not exceed more than 5-pages, excluding attachments, and should be organized in the order in which the requirements are presented in the RFP.\n",
      "========================\n",
      "\n"
     ]
    }
   ],
   "source": [
    "response = top_agent.query(f\"build a report on the requirements of the incoming RFP: construction, include a list of requirements and a comparison to the advertising and consultancy rfps\")\n"
   ]
  },
  {
   "cell_type": "code",
   "execution_count": 21,
   "metadata": {},
   "outputs": [
    {
     "data": {
      "text/plain": [
       "\"The requirements for the incoming RFP: construction, advertising, and consultancy RFPs are as follows:\\n\\n**Construction RFP Requirements:**\\n1. Demonstrating prior experience with Integrated Project / Construction Management-at-risk delivery methods, specifically completion of at least one project over $8M in construction costs.\\n2. Prior experience with delivering projects that have achieved sustainability benchmarks such as LEED or Living Building Challenge.\\n3. The proposal should include qualified personnel with experience collaborating with Architects and Engineers during Design Phases and have qualified Cost Estimators on staff.\\n4. The successful proposer should be available to begin work immediately upon selection and should be prepared for project activities to commence.\\n5. They should also be able to work within the project timeline provided in Exhibit C, acknowledging that there may be adjustments to the timeline as the Project evolves.\\n\\n**Advertising RFP Requirements:**\\nThe requirements for the advertising RFP are not specified in the provided context.\\n\\n**Consultancy RFP Requirements:**\\n1. A bidder's proposal must be complete, in the format indicated in the RFP, and delivered by the specified date and time.\\n2. A bidder can only submit one proposal for the contract.\\n3. The bidder who is awarded the contract must execute a contract similar to the one attached within ten business days after the award and submit other required documents.\\n4. The bidder must also obtain any license or permit required by law to undertake the work.\\n5. For the provision of media and communication consulting services, the bidder must demonstrate experience in journalism, interviewing, writing, and other media.\\n6. Knowledge of shooting and editing video, graphical design and layout, marketing automation tools, and social media strategies is preferred.\\n7. A bachelor's degree is required, and knowledge of the non-profit sector is preferred.\\n\\nComparatively, the construction RFP has a strong focus on prior experience and qualifications, particularly in relation to project management and sustainability. The consultancy RFP, on the other hand, emphasizes the need for a complete and timely proposal, legal compliance, and a diverse skill set in media and communication. The advertising RFP requirements are not specified in the provided context.\""
      ]
     },
     "execution_count": 21,
     "metadata": {},
     "output_type": "execute_result"
    }
   ],
   "source": [
    "response.response"
   ]
  }
 ],
 "metadata": {
  "kernelspec": {
   "display_name": "dev",
   "language": "python",
   "name": "python3"
  },
  "language_info": {
   "codemirror_mode": {
    "name": "ipython",
    "version": 3
   },
   "file_extension": ".py",
   "mimetype": "text/x-python",
   "name": "python",
   "nbconvert_exporter": "python",
   "pygments_lexer": "ipython3",
   "version": "3.11.8"
  }
 },
 "nbformat": 4,
 "nbformat_minor": 2
}
